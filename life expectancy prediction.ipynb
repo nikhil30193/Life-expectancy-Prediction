{
 "cells": [
  {
   "cell_type": "markdown",
   "metadata": {},
   "source": [
    "# Life Expectancy Prediction"
   ]
  },
  {
   "cell_type": "code",
   "execution_count": 1,
   "metadata": {},
   "outputs": [],
   "source": [
    "import pandas as pd"
   ]
  },
  {
   "cell_type": "markdown",
   "metadata": {},
   "source": [
    "###### reading data"
   ]
  },
  {
   "cell_type": "code",
   "execution_count": 2,
   "metadata": {},
   "outputs": [],
   "source": [
    "data = pd.read_csv('WHO.csv')"
   ]
  },
  {
   "cell_type": "code",
   "execution_count": 3,
   "metadata": {},
   "outputs": [
    {
     "data": {
      "text/html": [
       "<div>\n",
       "<style scoped>\n",
       "    .dataframe tbody tr th:only-of-type {\n",
       "        vertical-align: middle;\n",
       "    }\n",
       "\n",
       "    .dataframe tbody tr th {\n",
       "        vertical-align: top;\n",
       "    }\n",
       "\n",
       "    .dataframe thead th {\n",
       "        text-align: right;\n",
       "    }\n",
       "</style>\n",
       "<table border=\"1\" class=\"dataframe\">\n",
       "  <thead>\n",
       "    <tr style=\"text-align: right;\">\n",
       "      <th></th>\n",
       "      <th>Country</th>\n",
       "      <th>Region</th>\n",
       "      <th>Population</th>\n",
       "      <th>Under15</th>\n",
       "      <th>Over60</th>\n",
       "      <th>FertilityRate</th>\n",
       "      <th>LifeExpectancy</th>\n",
       "      <th>ChildMortality</th>\n",
       "      <th>CellularSubscribers</th>\n",
       "      <th>LiteracyRate</th>\n",
       "      <th>GNI</th>\n",
       "      <th>PrimarySchoolEnrollmentMale</th>\n",
       "      <th>PrimarySchoolEnrollmentFemale</th>\n",
       "    </tr>\n",
       "  </thead>\n",
       "  <tbody>\n",
       "    <tr>\n",
       "      <th>0</th>\n",
       "      <td>Afghanistan</td>\n",
       "      <td>Eastern Mediterranean</td>\n",
       "      <td>29825</td>\n",
       "      <td>47.42</td>\n",
       "      <td>3.82</td>\n",
       "      <td>5.40</td>\n",
       "      <td>60</td>\n",
       "      <td>98.5</td>\n",
       "      <td>54.26</td>\n",
       "      <td>0.0</td>\n",
       "      <td>1140</td>\n",
       "      <td>0.0</td>\n",
       "      <td>0.0</td>\n",
       "    </tr>\n",
       "    <tr>\n",
       "      <th>1</th>\n",
       "      <td>Albania</td>\n",
       "      <td>Europe</td>\n",
       "      <td>3162</td>\n",
       "      <td>21.33</td>\n",
       "      <td>14.93</td>\n",
       "      <td>1.75</td>\n",
       "      <td>74</td>\n",
       "      <td>16.7</td>\n",
       "      <td>96.39</td>\n",
       "      <td>0.0</td>\n",
       "      <td>8820</td>\n",
       "      <td>0.0</td>\n",
       "      <td>0.0</td>\n",
       "    </tr>\n",
       "    <tr>\n",
       "      <th>2</th>\n",
       "      <td>Algeria</td>\n",
       "      <td>Africa</td>\n",
       "      <td>38482</td>\n",
       "      <td>27.42</td>\n",
       "      <td>7.17</td>\n",
       "      <td>2.83</td>\n",
       "      <td>73</td>\n",
       "      <td>20.0</td>\n",
       "      <td>98.99</td>\n",
       "      <td>0.0</td>\n",
       "      <td>8310</td>\n",
       "      <td>98.2</td>\n",
       "      <td>96.4</td>\n",
       "    </tr>\n",
       "    <tr>\n",
       "      <th>3</th>\n",
       "      <td>Andorra</td>\n",
       "      <td>Europe</td>\n",
       "      <td>78</td>\n",
       "      <td>15.20</td>\n",
       "      <td>22.86</td>\n",
       "      <td>0.00</td>\n",
       "      <td>82</td>\n",
       "      <td>3.2</td>\n",
       "      <td>75.49</td>\n",
       "      <td>0.0</td>\n",
       "      <td>0</td>\n",
       "      <td>78.4</td>\n",
       "      <td>79.4</td>\n",
       "    </tr>\n",
       "    <tr>\n",
       "      <th>4</th>\n",
       "      <td>Angola</td>\n",
       "      <td>Africa</td>\n",
       "      <td>20821</td>\n",
       "      <td>47.58</td>\n",
       "      <td>3.84</td>\n",
       "      <td>6.10</td>\n",
       "      <td>51</td>\n",
       "      <td>163.5</td>\n",
       "      <td>48.38</td>\n",
       "      <td>70.1</td>\n",
       "      <td>5230</td>\n",
       "      <td>93.1</td>\n",
       "      <td>78.2</td>\n",
       "    </tr>\n",
       "    <tr>\n",
       "      <th>5</th>\n",
       "      <td>Antigua and Barbuda</td>\n",
       "      <td>Americas</td>\n",
       "      <td>89</td>\n",
       "      <td>25.96</td>\n",
       "      <td>12.35</td>\n",
       "      <td>2.12</td>\n",
       "      <td>75</td>\n",
       "      <td>9.9</td>\n",
       "      <td>196.41</td>\n",
       "      <td>99.0</td>\n",
       "      <td>17900</td>\n",
       "      <td>91.1</td>\n",
       "      <td>84.5</td>\n",
       "    </tr>\n",
       "    <tr>\n",
       "      <th>6</th>\n",
       "      <td>Argentina</td>\n",
       "      <td>Americas</td>\n",
       "      <td>41087</td>\n",
       "      <td>24.42</td>\n",
       "      <td>14.97</td>\n",
       "      <td>2.20</td>\n",
       "      <td>76</td>\n",
       "      <td>14.2</td>\n",
       "      <td>134.92</td>\n",
       "      <td>97.8</td>\n",
       "      <td>17130</td>\n",
       "      <td>0.0</td>\n",
       "      <td>0.0</td>\n",
       "    </tr>\n",
       "    <tr>\n",
       "      <th>7</th>\n",
       "      <td>Armenia</td>\n",
       "      <td>Europe</td>\n",
       "      <td>2969</td>\n",
       "      <td>20.34</td>\n",
       "      <td>14.06</td>\n",
       "      <td>1.74</td>\n",
       "      <td>71</td>\n",
       "      <td>16.4</td>\n",
       "      <td>103.57</td>\n",
       "      <td>99.6</td>\n",
       "      <td>6100</td>\n",
       "      <td>0.0</td>\n",
       "      <td>0.0</td>\n",
       "    </tr>\n",
       "    <tr>\n",
       "      <th>8</th>\n",
       "      <td>Australia</td>\n",
       "      <td>Western Pacific</td>\n",
       "      <td>23050</td>\n",
       "      <td>18.95</td>\n",
       "      <td>19.46</td>\n",
       "      <td>1.89</td>\n",
       "      <td>82</td>\n",
       "      <td>4.9</td>\n",
       "      <td>108.34</td>\n",
       "      <td>0.0</td>\n",
       "      <td>38110</td>\n",
       "      <td>96.9</td>\n",
       "      <td>97.5</td>\n",
       "    </tr>\n",
       "    <tr>\n",
       "      <th>9</th>\n",
       "      <td>Austria</td>\n",
       "      <td>Europe</td>\n",
       "      <td>8464</td>\n",
       "      <td>14.51</td>\n",
       "      <td>23.52</td>\n",
       "      <td>1.44</td>\n",
       "      <td>81</td>\n",
       "      <td>4.0</td>\n",
       "      <td>154.78</td>\n",
       "      <td>0.0</td>\n",
       "      <td>42050</td>\n",
       "      <td>0.0</td>\n",
       "      <td>0.0</td>\n",
       "    </tr>\n",
       "    <tr>\n",
       "      <th>10</th>\n",
       "      <td>Azerbaijan</td>\n",
       "      <td>Europe</td>\n",
       "      <td>9309</td>\n",
       "      <td>22.25</td>\n",
       "      <td>8.24</td>\n",
       "      <td>1.96</td>\n",
       "      <td>71</td>\n",
       "      <td>35.2</td>\n",
       "      <td>108.75</td>\n",
       "      <td>0.0</td>\n",
       "      <td>8960</td>\n",
       "      <td>85.3</td>\n",
       "      <td>84.1</td>\n",
       "    </tr>\n",
       "    <tr>\n",
       "      <th>11</th>\n",
       "      <td>Bahamas</td>\n",
       "      <td>Americas</td>\n",
       "      <td>372</td>\n",
       "      <td>21.62</td>\n",
       "      <td>11.24</td>\n",
       "      <td>1.90</td>\n",
       "      <td>75</td>\n",
       "      <td>16.9</td>\n",
       "      <td>86.06</td>\n",
       "      <td>0.0</td>\n",
       "      <td>0</td>\n",
       "      <td>0.0</td>\n",
       "      <td>0.0</td>\n",
       "    </tr>\n",
       "    <tr>\n",
       "      <th>12</th>\n",
       "      <td>Bahrain</td>\n",
       "      <td>Eastern Mediterranean</td>\n",
       "      <td>1318</td>\n",
       "      <td>20.16</td>\n",
       "      <td>3.38</td>\n",
       "      <td>2.12</td>\n",
       "      <td>79</td>\n",
       "      <td>9.6</td>\n",
       "      <td>127.96</td>\n",
       "      <td>91.9</td>\n",
       "      <td>0</td>\n",
       "      <td>0.0</td>\n",
       "      <td>0.0</td>\n",
       "    </tr>\n",
       "    <tr>\n",
       "      <th>13</th>\n",
       "      <td>Bangladesh</td>\n",
       "      <td>South-East Asia</td>\n",
       "      <td>155000</td>\n",
       "      <td>30.57</td>\n",
       "      <td>6.89</td>\n",
       "      <td>2.24</td>\n",
       "      <td>70</td>\n",
       "      <td>40.9</td>\n",
       "      <td>56.06</td>\n",
       "      <td>56.8</td>\n",
       "      <td>1940</td>\n",
       "      <td>0.0</td>\n",
       "      <td>0.0</td>\n",
       "    </tr>\n",
       "    <tr>\n",
       "      <th>14</th>\n",
       "      <td>Barbados</td>\n",
       "      <td>Americas</td>\n",
       "      <td>283</td>\n",
       "      <td>18.99</td>\n",
       "      <td>15.78</td>\n",
       "      <td>1.84</td>\n",
       "      <td>78</td>\n",
       "      <td>18.4</td>\n",
       "      <td>127.01</td>\n",
       "      <td>0.0</td>\n",
       "      <td>0</td>\n",
       "      <td>0.0</td>\n",
       "      <td>0.0</td>\n",
       "    </tr>\n",
       "    <tr>\n",
       "      <th>15</th>\n",
       "      <td>Belarus</td>\n",
       "      <td>Europe</td>\n",
       "      <td>9405</td>\n",
       "      <td>15.10</td>\n",
       "      <td>19.31</td>\n",
       "      <td>1.47</td>\n",
       "      <td>71</td>\n",
       "      <td>5.2</td>\n",
       "      <td>111.88</td>\n",
       "      <td>0.0</td>\n",
       "      <td>14460</td>\n",
       "      <td>0.0</td>\n",
       "      <td>0.0</td>\n",
       "    </tr>\n",
       "    <tr>\n",
       "      <th>16</th>\n",
       "      <td>Belgium</td>\n",
       "      <td>Europe</td>\n",
       "      <td>11060</td>\n",
       "      <td>16.88</td>\n",
       "      <td>23.81</td>\n",
       "      <td>1.85</td>\n",
       "      <td>80</td>\n",
       "      <td>4.2</td>\n",
       "      <td>116.61</td>\n",
       "      <td>0.0</td>\n",
       "      <td>39190</td>\n",
       "      <td>98.9</td>\n",
       "      <td>99.2</td>\n",
       "    </tr>\n",
       "    <tr>\n",
       "      <th>17</th>\n",
       "      <td>Belize</td>\n",
       "      <td>Americas</td>\n",
       "      <td>324</td>\n",
       "      <td>34.40</td>\n",
       "      <td>5.74</td>\n",
       "      <td>2.76</td>\n",
       "      <td>74</td>\n",
       "      <td>18.3</td>\n",
       "      <td>69.96</td>\n",
       "      <td>0.0</td>\n",
       "      <td>6090</td>\n",
       "      <td>0.0</td>\n",
       "      <td>0.0</td>\n",
       "    </tr>\n",
       "    <tr>\n",
       "      <th>18</th>\n",
       "      <td>Benin</td>\n",
       "      <td>Africa</td>\n",
       "      <td>10051</td>\n",
       "      <td>42.95</td>\n",
       "      <td>4.54</td>\n",
       "      <td>5.01</td>\n",
       "      <td>57</td>\n",
       "      <td>89.5</td>\n",
       "      <td>85.33</td>\n",
       "      <td>42.4</td>\n",
       "      <td>1620</td>\n",
       "      <td>0.0</td>\n",
       "      <td>0.0</td>\n",
       "    </tr>\n",
       "    <tr>\n",
       "      <th>19</th>\n",
       "      <td>Bhutan</td>\n",
       "      <td>South-East Asia</td>\n",
       "      <td>742</td>\n",
       "      <td>28.53</td>\n",
       "      <td>6.90</td>\n",
       "      <td>2.32</td>\n",
       "      <td>67</td>\n",
       "      <td>44.6</td>\n",
       "      <td>65.58</td>\n",
       "      <td>0.0</td>\n",
       "      <td>5570</td>\n",
       "      <td>88.3</td>\n",
       "      <td>91.5</td>\n",
       "    </tr>\n",
       "    <tr>\n",
       "      <th>20</th>\n",
       "      <td>Bolivia (Plurinational State of)</td>\n",
       "      <td>Americas</td>\n",
       "      <td>10496</td>\n",
       "      <td>35.23</td>\n",
       "      <td>7.28</td>\n",
       "      <td>3.31</td>\n",
       "      <td>67</td>\n",
       "      <td>41.4</td>\n",
       "      <td>82.82</td>\n",
       "      <td>0.0</td>\n",
       "      <td>4890</td>\n",
       "      <td>91.2</td>\n",
       "      <td>91.5</td>\n",
       "    </tr>\n",
       "    <tr>\n",
       "      <th>21</th>\n",
       "      <td>Bosnia and Herzegovina</td>\n",
       "      <td>Europe</td>\n",
       "      <td>3834</td>\n",
       "      <td>16.35</td>\n",
       "      <td>20.52</td>\n",
       "      <td>1.26</td>\n",
       "      <td>76</td>\n",
       "      <td>6.7</td>\n",
       "      <td>84.52</td>\n",
       "      <td>97.9</td>\n",
       "      <td>9190</td>\n",
       "      <td>86.5</td>\n",
       "      <td>88.4</td>\n",
       "    </tr>\n",
       "    <tr>\n",
       "      <th>22</th>\n",
       "      <td>Botswana</td>\n",
       "      <td>Africa</td>\n",
       "      <td>2004</td>\n",
       "      <td>33.75</td>\n",
       "      <td>5.63</td>\n",
       "      <td>2.71</td>\n",
       "      <td>66</td>\n",
       "      <td>53.3</td>\n",
       "      <td>142.82</td>\n",
       "      <td>84.5</td>\n",
       "      <td>14550</td>\n",
       "      <td>0.0</td>\n",
       "      <td>0.0</td>\n",
       "    </tr>\n",
       "    <tr>\n",
       "      <th>23</th>\n",
       "      <td>Brazil</td>\n",
       "      <td>Americas</td>\n",
       "      <td>199000</td>\n",
       "      <td>24.56</td>\n",
       "      <td>10.81</td>\n",
       "      <td>1.82</td>\n",
       "      <td>74</td>\n",
       "      <td>14.4</td>\n",
       "      <td>124.26</td>\n",
       "      <td>0.0</td>\n",
       "      <td>11420</td>\n",
       "      <td>0.0</td>\n",
       "      <td>0.0</td>\n",
       "    </tr>\n",
       "    <tr>\n",
       "      <th>24</th>\n",
       "      <td>Brunei Darussalam</td>\n",
       "      <td>Western Pacific</td>\n",
       "      <td>412</td>\n",
       "      <td>25.75</td>\n",
       "      <td>7.03</td>\n",
       "      <td>2.03</td>\n",
       "      <td>77</td>\n",
       "      <td>8.0</td>\n",
       "      <td>109.17</td>\n",
       "      <td>95.2</td>\n",
       "      <td>0</td>\n",
       "      <td>0.0</td>\n",
       "      <td>0.0</td>\n",
       "    </tr>\n",
       "    <tr>\n",
       "      <th>25</th>\n",
       "      <td>Bulgaria</td>\n",
       "      <td>Europe</td>\n",
       "      <td>7278</td>\n",
       "      <td>13.53</td>\n",
       "      <td>26.11</td>\n",
       "      <td>1.51</td>\n",
       "      <td>74</td>\n",
       "      <td>12.1</td>\n",
       "      <td>140.68</td>\n",
       "      <td>0.0</td>\n",
       "      <td>14160</td>\n",
       "      <td>99.3</td>\n",
       "      <td>99.7</td>\n",
       "    </tr>\n",
       "    <tr>\n",
       "      <th>26</th>\n",
       "      <td>Burkina Faso</td>\n",
       "      <td>Africa</td>\n",
       "      <td>16460</td>\n",
       "      <td>45.66</td>\n",
       "      <td>3.88</td>\n",
       "      <td>5.78</td>\n",
       "      <td>56</td>\n",
       "      <td>102.4</td>\n",
       "      <td>45.27</td>\n",
       "      <td>0.0</td>\n",
       "      <td>1300</td>\n",
       "      <td>60.7</td>\n",
       "      <td>55.9</td>\n",
       "    </tr>\n",
       "    <tr>\n",
       "      <th>27</th>\n",
       "      <td>Burundi</td>\n",
       "      <td>Africa</td>\n",
       "      <td>9850</td>\n",
       "      <td>44.20</td>\n",
       "      <td>3.87</td>\n",
       "      <td>6.21</td>\n",
       "      <td>53</td>\n",
       "      <td>104.3</td>\n",
       "      <td>22.33</td>\n",
       "      <td>67.2</td>\n",
       "      <td>610</td>\n",
       "      <td>0.0</td>\n",
       "      <td>0.0</td>\n",
       "    </tr>\n",
       "    <tr>\n",
       "      <th>28</th>\n",
       "      <td>Cambodia</td>\n",
       "      <td>Western Pacific</td>\n",
       "      <td>14865</td>\n",
       "      <td>31.23</td>\n",
       "      <td>7.67</td>\n",
       "      <td>2.93</td>\n",
       "      <td>65</td>\n",
       "      <td>39.7</td>\n",
       "      <td>96.17</td>\n",
       "      <td>0.0</td>\n",
       "      <td>2230</td>\n",
       "      <td>96.4</td>\n",
       "      <td>95.4</td>\n",
       "    </tr>\n",
       "    <tr>\n",
       "      <th>29</th>\n",
       "      <td>Cameroon</td>\n",
       "      <td>Africa</td>\n",
       "      <td>21700</td>\n",
       "      <td>43.08</td>\n",
       "      <td>4.89</td>\n",
       "      <td>4.94</td>\n",
       "      <td>53</td>\n",
       "      <td>94.9</td>\n",
       "      <td>52.35</td>\n",
       "      <td>0.0</td>\n",
       "      <td>2330</td>\n",
       "      <td>99.6</td>\n",
       "      <td>87.4</td>\n",
       "    </tr>\n",
       "    <tr>\n",
       "      <th>...</th>\n",
       "      <td>...</td>\n",
       "      <td>...</td>\n",
       "      <td>...</td>\n",
       "      <td>...</td>\n",
       "      <td>...</td>\n",
       "      <td>...</td>\n",
       "      <td>...</td>\n",
       "      <td>...</td>\n",
       "      <td>...</td>\n",
       "      <td>...</td>\n",
       "      <td>...</td>\n",
       "      <td>...</td>\n",
       "      <td>...</td>\n",
       "    </tr>\n",
       "    <tr>\n",
       "      <th>164</th>\n",
       "      <td>Suriname</td>\n",
       "      <td>Americas</td>\n",
       "      <td>535</td>\n",
       "      <td>27.83</td>\n",
       "      <td>9.55</td>\n",
       "      <td>2.32</td>\n",
       "      <td>72</td>\n",
       "      <td>20.8</td>\n",
       "      <td>178.88</td>\n",
       "      <td>94.7</td>\n",
       "      <td>0</td>\n",
       "      <td>0.0</td>\n",
       "      <td>0.0</td>\n",
       "    </tr>\n",
       "    <tr>\n",
       "      <th>165</th>\n",
       "      <td>Swaziland</td>\n",
       "      <td>Africa</td>\n",
       "      <td>1231</td>\n",
       "      <td>38.05</td>\n",
       "      <td>5.34</td>\n",
       "      <td>3.48</td>\n",
       "      <td>50</td>\n",
       "      <td>79.7</td>\n",
       "      <td>63.70</td>\n",
       "      <td>87.4</td>\n",
       "      <td>5930</td>\n",
       "      <td>0.0</td>\n",
       "      <td>0.0</td>\n",
       "    </tr>\n",
       "    <tr>\n",
       "      <th>166</th>\n",
       "      <td>Sweden</td>\n",
       "      <td>Europe</td>\n",
       "      <td>9511</td>\n",
       "      <td>16.71</td>\n",
       "      <td>25.32</td>\n",
       "      <td>1.93</td>\n",
       "      <td>82</td>\n",
       "      <td>2.9</td>\n",
       "      <td>118.57</td>\n",
       "      <td>0.0</td>\n",
       "      <td>42200</td>\n",
       "      <td>99.7</td>\n",
       "      <td>99.0</td>\n",
       "    </tr>\n",
       "    <tr>\n",
       "      <th>167</th>\n",
       "      <td>Switzerland</td>\n",
       "      <td>Europe</td>\n",
       "      <td>7997</td>\n",
       "      <td>14.79</td>\n",
       "      <td>23.25</td>\n",
       "      <td>1.51</td>\n",
       "      <td>83</td>\n",
       "      <td>4.3</td>\n",
       "      <td>131.43</td>\n",
       "      <td>0.0</td>\n",
       "      <td>52570</td>\n",
       "      <td>98.9</td>\n",
       "      <td>99.5</td>\n",
       "    </tr>\n",
       "    <tr>\n",
       "      <th>168</th>\n",
       "      <td>Syrian Arab Republic</td>\n",
       "      <td>Eastern Mediterranean</td>\n",
       "      <td>21890</td>\n",
       "      <td>35.35</td>\n",
       "      <td>6.09</td>\n",
       "      <td>3.04</td>\n",
       "      <td>75</td>\n",
       "      <td>15.1</td>\n",
       "      <td>63.17</td>\n",
       "      <td>83.4</td>\n",
       "      <td>0</td>\n",
       "      <td>0.0</td>\n",
       "      <td>0.0</td>\n",
       "    </tr>\n",
       "    <tr>\n",
       "      <th>169</th>\n",
       "      <td>Tajikistan</td>\n",
       "      <td>Europe</td>\n",
       "      <td>8009</td>\n",
       "      <td>35.75</td>\n",
       "      <td>4.80</td>\n",
       "      <td>3.81</td>\n",
       "      <td>68</td>\n",
       "      <td>58.3</td>\n",
       "      <td>90.64</td>\n",
       "      <td>99.7</td>\n",
       "      <td>2300</td>\n",
       "      <td>99.5</td>\n",
       "      <td>96.0</td>\n",
       "    </tr>\n",
       "    <tr>\n",
       "      <th>170</th>\n",
       "      <td>Thailand</td>\n",
       "      <td>South-East Asia</td>\n",
       "      <td>66785</td>\n",
       "      <td>18.47</td>\n",
       "      <td>13.96</td>\n",
       "      <td>1.43</td>\n",
       "      <td>74</td>\n",
       "      <td>13.2</td>\n",
       "      <td>111.63</td>\n",
       "      <td>0.0</td>\n",
       "      <td>8360</td>\n",
       "      <td>0.0</td>\n",
       "      <td>0.0</td>\n",
       "    </tr>\n",
       "    <tr>\n",
       "      <th>171</th>\n",
       "      <td>The former Yugoslav Republic of Macedonia</td>\n",
       "      <td>Europe</td>\n",
       "      <td>2106</td>\n",
       "      <td>16.89</td>\n",
       "      <td>17.56</td>\n",
       "      <td>1.44</td>\n",
       "      <td>75</td>\n",
       "      <td>7.4</td>\n",
       "      <td>107.24</td>\n",
       "      <td>97.3</td>\n",
       "      <td>11090</td>\n",
       "      <td>97.3</td>\n",
       "      <td>99.2</td>\n",
       "    </tr>\n",
       "    <tr>\n",
       "      <th>172</th>\n",
       "      <td>Timor-Leste</td>\n",
       "      <td>South-East Asia</td>\n",
       "      <td>1114</td>\n",
       "      <td>46.33</td>\n",
       "      <td>5.16</td>\n",
       "      <td>6.11</td>\n",
       "      <td>64</td>\n",
       "      <td>56.7</td>\n",
       "      <td>53.23</td>\n",
       "      <td>58.3</td>\n",
       "      <td>0</td>\n",
       "      <td>86.2</td>\n",
       "      <td>85.6</td>\n",
       "    </tr>\n",
       "    <tr>\n",
       "      <th>173</th>\n",
       "      <td>Togo</td>\n",
       "      <td>Africa</td>\n",
       "      <td>6643</td>\n",
       "      <td>41.89</td>\n",
       "      <td>4.44</td>\n",
       "      <td>4.75</td>\n",
       "      <td>56</td>\n",
       "      <td>95.5</td>\n",
       "      <td>50.45</td>\n",
       "      <td>0.0</td>\n",
       "      <td>1040</td>\n",
       "      <td>0.0</td>\n",
       "      <td>0.0</td>\n",
       "    </tr>\n",
       "    <tr>\n",
       "      <th>174</th>\n",
       "      <td>Tonga</td>\n",
       "      <td>Western Pacific</td>\n",
       "      <td>105</td>\n",
       "      <td>37.33</td>\n",
       "      <td>7.96</td>\n",
       "      <td>3.86</td>\n",
       "      <td>72</td>\n",
       "      <td>12.8</td>\n",
       "      <td>52.63</td>\n",
       "      <td>0.0</td>\n",
       "      <td>5000</td>\n",
       "      <td>0.0</td>\n",
       "      <td>0.0</td>\n",
       "    </tr>\n",
       "    <tr>\n",
       "      <th>175</th>\n",
       "      <td>Trinidad and Tobago</td>\n",
       "      <td>Americas</td>\n",
       "      <td>1337</td>\n",
       "      <td>20.73</td>\n",
       "      <td>13.18</td>\n",
       "      <td>1.80</td>\n",
       "      <td>71</td>\n",
       "      <td>20.7</td>\n",
       "      <td>135.64</td>\n",
       "      <td>98.8</td>\n",
       "      <td>0</td>\n",
       "      <td>97.7</td>\n",
       "      <td>97.0</td>\n",
       "    </tr>\n",
       "    <tr>\n",
       "      <th>176</th>\n",
       "      <td>Tunisia</td>\n",
       "      <td>Eastern Mediterranean</td>\n",
       "      <td>10875</td>\n",
       "      <td>23.22</td>\n",
       "      <td>10.49</td>\n",
       "      <td>2.04</td>\n",
       "      <td>76</td>\n",
       "      <td>16.1</td>\n",
       "      <td>116.93</td>\n",
       "      <td>0.0</td>\n",
       "      <td>9030</td>\n",
       "      <td>0.0</td>\n",
       "      <td>0.0</td>\n",
       "    </tr>\n",
       "    <tr>\n",
       "      <th>177</th>\n",
       "      <td>Turkey</td>\n",
       "      <td>Europe</td>\n",
       "      <td>73997</td>\n",
       "      <td>26.00</td>\n",
       "      <td>10.56</td>\n",
       "      <td>2.08</td>\n",
       "      <td>76</td>\n",
       "      <td>14.2</td>\n",
       "      <td>88.70</td>\n",
       "      <td>0.0</td>\n",
       "      <td>16940</td>\n",
       "      <td>99.5</td>\n",
       "      <td>98.3</td>\n",
       "    </tr>\n",
       "    <tr>\n",
       "      <th>178</th>\n",
       "      <td>Turkmenistan</td>\n",
       "      <td>Europe</td>\n",
       "      <td>5173</td>\n",
       "      <td>28.65</td>\n",
       "      <td>6.30</td>\n",
       "      <td>2.38</td>\n",
       "      <td>63</td>\n",
       "      <td>52.8</td>\n",
       "      <td>68.77</td>\n",
       "      <td>99.6</td>\n",
       "      <td>8690</td>\n",
       "      <td>0.0</td>\n",
       "      <td>0.0</td>\n",
       "    </tr>\n",
       "    <tr>\n",
       "      <th>179</th>\n",
       "      <td>Tuvalu</td>\n",
       "      <td>Western Pacific</td>\n",
       "      <td>10</td>\n",
       "      <td>30.61</td>\n",
       "      <td>9.07</td>\n",
       "      <td>0.00</td>\n",
       "      <td>64</td>\n",
       "      <td>29.7</td>\n",
       "      <td>21.63</td>\n",
       "      <td>0.0</td>\n",
       "      <td>0</td>\n",
       "      <td>0.0</td>\n",
       "      <td>0.0</td>\n",
       "    </tr>\n",
       "    <tr>\n",
       "      <th>180</th>\n",
       "      <td>Uganda</td>\n",
       "      <td>Africa</td>\n",
       "      <td>36346</td>\n",
       "      <td>48.54</td>\n",
       "      <td>3.72</td>\n",
       "      <td>6.06</td>\n",
       "      <td>56</td>\n",
       "      <td>68.9</td>\n",
       "      <td>48.38</td>\n",
       "      <td>73.2</td>\n",
       "      <td>1310</td>\n",
       "      <td>89.7</td>\n",
       "      <td>92.3</td>\n",
       "    </tr>\n",
       "    <tr>\n",
       "      <th>181</th>\n",
       "      <td>Ukraine</td>\n",
       "      <td>Europe</td>\n",
       "      <td>45530</td>\n",
       "      <td>14.18</td>\n",
       "      <td>20.76</td>\n",
       "      <td>1.45</td>\n",
       "      <td>71</td>\n",
       "      <td>10.7</td>\n",
       "      <td>122.98</td>\n",
       "      <td>99.7</td>\n",
       "      <td>7040</td>\n",
       "      <td>90.8</td>\n",
       "      <td>91.5</td>\n",
       "    </tr>\n",
       "    <tr>\n",
       "      <th>182</th>\n",
       "      <td>United Arab Emirates</td>\n",
       "      <td>Eastern Mediterranean</td>\n",
       "      <td>9206</td>\n",
       "      <td>14.41</td>\n",
       "      <td>0.81</td>\n",
       "      <td>1.84</td>\n",
       "      <td>76</td>\n",
       "      <td>8.4</td>\n",
       "      <td>148.62</td>\n",
       "      <td>0.0</td>\n",
       "      <td>47890</td>\n",
       "      <td>0.0</td>\n",
       "      <td>0.0</td>\n",
       "    </tr>\n",
       "    <tr>\n",
       "      <th>183</th>\n",
       "      <td>United Kingdom</td>\n",
       "      <td>Europe</td>\n",
       "      <td>62783</td>\n",
       "      <td>17.54</td>\n",
       "      <td>23.06</td>\n",
       "      <td>1.90</td>\n",
       "      <td>80</td>\n",
       "      <td>4.8</td>\n",
       "      <td>130.75</td>\n",
       "      <td>0.0</td>\n",
       "      <td>36010</td>\n",
       "      <td>99.8</td>\n",
       "      <td>99.6</td>\n",
       "    </tr>\n",
       "    <tr>\n",
       "      <th>184</th>\n",
       "      <td>United Republic of Tanzania</td>\n",
       "      <td>Africa</td>\n",
       "      <td>47783</td>\n",
       "      <td>44.85</td>\n",
       "      <td>4.89</td>\n",
       "      <td>5.36</td>\n",
       "      <td>59</td>\n",
       "      <td>54.0</td>\n",
       "      <td>55.53</td>\n",
       "      <td>73.2</td>\n",
       "      <td>1500</td>\n",
       "      <td>0.0</td>\n",
       "      <td>0.0</td>\n",
       "    </tr>\n",
       "    <tr>\n",
       "      <th>185</th>\n",
       "      <td>United States of America</td>\n",
       "      <td>Americas</td>\n",
       "      <td>318000</td>\n",
       "      <td>19.63</td>\n",
       "      <td>19.31</td>\n",
       "      <td>2.00</td>\n",
       "      <td>79</td>\n",
       "      <td>7.1</td>\n",
       "      <td>92.72</td>\n",
       "      <td>0.0</td>\n",
       "      <td>48820</td>\n",
       "      <td>95.4</td>\n",
       "      <td>96.1</td>\n",
       "    </tr>\n",
       "    <tr>\n",
       "      <th>186</th>\n",
       "      <td>Uruguay</td>\n",
       "      <td>Americas</td>\n",
       "      <td>3395</td>\n",
       "      <td>22.05</td>\n",
       "      <td>18.59</td>\n",
       "      <td>2.07</td>\n",
       "      <td>77</td>\n",
       "      <td>7.2</td>\n",
       "      <td>140.75</td>\n",
       "      <td>98.1</td>\n",
       "      <td>14640</td>\n",
       "      <td>0.0</td>\n",
       "      <td>0.0</td>\n",
       "    </tr>\n",
       "    <tr>\n",
       "      <th>187</th>\n",
       "      <td>Uzbekistan</td>\n",
       "      <td>Europe</td>\n",
       "      <td>28541</td>\n",
       "      <td>28.90</td>\n",
       "      <td>6.38</td>\n",
       "      <td>2.38</td>\n",
       "      <td>68</td>\n",
       "      <td>39.6</td>\n",
       "      <td>91.65</td>\n",
       "      <td>99.4</td>\n",
       "      <td>3420</td>\n",
       "      <td>93.3</td>\n",
       "      <td>91.0</td>\n",
       "    </tr>\n",
       "    <tr>\n",
       "      <th>188</th>\n",
       "      <td>Vanuatu</td>\n",
       "      <td>Western Pacific</td>\n",
       "      <td>247</td>\n",
       "      <td>37.37</td>\n",
       "      <td>6.02</td>\n",
       "      <td>3.46</td>\n",
       "      <td>72</td>\n",
       "      <td>17.9</td>\n",
       "      <td>55.76</td>\n",
       "      <td>82.6</td>\n",
       "      <td>4330</td>\n",
       "      <td>0.0</td>\n",
       "      <td>0.0</td>\n",
       "    </tr>\n",
       "    <tr>\n",
       "      <th>189</th>\n",
       "      <td>Venezuela (Bolivarian Republic of)</td>\n",
       "      <td>Americas</td>\n",
       "      <td>29955</td>\n",
       "      <td>28.84</td>\n",
       "      <td>9.17</td>\n",
       "      <td>2.44</td>\n",
       "      <td>75</td>\n",
       "      <td>15.3</td>\n",
       "      <td>97.78</td>\n",
       "      <td>0.0</td>\n",
       "      <td>12430</td>\n",
       "      <td>94.7</td>\n",
       "      <td>95.1</td>\n",
       "    </tr>\n",
       "    <tr>\n",
       "      <th>190</th>\n",
       "      <td>Viet Nam</td>\n",
       "      <td>Western Pacific</td>\n",
       "      <td>90796</td>\n",
       "      <td>22.87</td>\n",
       "      <td>9.32</td>\n",
       "      <td>1.79</td>\n",
       "      <td>75</td>\n",
       "      <td>23.0</td>\n",
       "      <td>143.39</td>\n",
       "      <td>93.2</td>\n",
       "      <td>3250</td>\n",
       "      <td>0.0</td>\n",
       "      <td>0.0</td>\n",
       "    </tr>\n",
       "    <tr>\n",
       "      <th>191</th>\n",
       "      <td>Yemen</td>\n",
       "      <td>Eastern Mediterranean</td>\n",
       "      <td>23852</td>\n",
       "      <td>40.72</td>\n",
       "      <td>4.54</td>\n",
       "      <td>4.35</td>\n",
       "      <td>64</td>\n",
       "      <td>60.0</td>\n",
       "      <td>47.05</td>\n",
       "      <td>63.9</td>\n",
       "      <td>2170</td>\n",
       "      <td>85.5</td>\n",
       "      <td>70.5</td>\n",
       "    </tr>\n",
       "    <tr>\n",
       "      <th>192</th>\n",
       "      <td>Zambia</td>\n",
       "      <td>Africa</td>\n",
       "      <td>14075</td>\n",
       "      <td>46.73</td>\n",
       "      <td>3.95</td>\n",
       "      <td>5.77</td>\n",
       "      <td>55</td>\n",
       "      <td>88.5</td>\n",
       "      <td>60.59</td>\n",
       "      <td>71.2</td>\n",
       "      <td>1490</td>\n",
       "      <td>91.4</td>\n",
       "      <td>93.9</td>\n",
       "    </tr>\n",
       "    <tr>\n",
       "      <th>193</th>\n",
       "      <td>Zimbabwe</td>\n",
       "      <td>Africa</td>\n",
       "      <td>13724</td>\n",
       "      <td>40.24</td>\n",
       "      <td>5.68</td>\n",
       "      <td>3.64</td>\n",
       "      <td>54</td>\n",
       "      <td>89.8</td>\n",
       "      <td>72.13</td>\n",
       "      <td>92.2</td>\n",
       "      <td>0</td>\n",
       "      <td>0.0</td>\n",
       "      <td>0.0</td>\n",
       "    </tr>\n",
       "  </tbody>\n",
       "</table>\n",
       "<p>194 rows × 13 columns</p>\n",
       "</div>"
      ],
      "text/plain": [
       "                                       Country                 Region  \\\n",
       "0                                  Afghanistan  Eastern Mediterranean   \n",
       "1                                      Albania                 Europe   \n",
       "2                                      Algeria                 Africa   \n",
       "3                                      Andorra                 Europe   \n",
       "4                                       Angola                 Africa   \n",
       "5                          Antigua and Barbuda               Americas   \n",
       "6                                    Argentina               Americas   \n",
       "7                                      Armenia                 Europe   \n",
       "8                                    Australia        Western Pacific   \n",
       "9                                      Austria                 Europe   \n",
       "10                                  Azerbaijan                 Europe   \n",
       "11                                     Bahamas               Americas   \n",
       "12                                     Bahrain  Eastern Mediterranean   \n",
       "13                                  Bangladesh        South-East Asia   \n",
       "14                                    Barbados               Americas   \n",
       "15                                     Belarus                 Europe   \n",
       "16                                     Belgium                 Europe   \n",
       "17                                      Belize               Americas   \n",
       "18                                       Benin                 Africa   \n",
       "19                                      Bhutan        South-East Asia   \n",
       "20            Bolivia (Plurinational State of)               Americas   \n",
       "21                      Bosnia and Herzegovina                 Europe   \n",
       "22                                    Botswana                 Africa   \n",
       "23                                      Brazil               Americas   \n",
       "24                           Brunei Darussalam        Western Pacific   \n",
       "25                                    Bulgaria                 Europe   \n",
       "26                                Burkina Faso                 Africa   \n",
       "27                                     Burundi                 Africa   \n",
       "28                                    Cambodia        Western Pacific   \n",
       "29                                    Cameroon                 Africa   \n",
       "..                                         ...                    ...   \n",
       "164                                   Suriname               Americas   \n",
       "165                                  Swaziland                 Africa   \n",
       "166                                     Sweden                 Europe   \n",
       "167                                Switzerland                 Europe   \n",
       "168                       Syrian Arab Republic  Eastern Mediterranean   \n",
       "169                                 Tajikistan                 Europe   \n",
       "170                                   Thailand        South-East Asia   \n",
       "171  The former Yugoslav Republic of Macedonia                 Europe   \n",
       "172                                Timor-Leste        South-East Asia   \n",
       "173                                       Togo                 Africa   \n",
       "174                                      Tonga        Western Pacific   \n",
       "175                        Trinidad and Tobago               Americas   \n",
       "176                                    Tunisia  Eastern Mediterranean   \n",
       "177                                     Turkey                 Europe   \n",
       "178                               Turkmenistan                 Europe   \n",
       "179                                     Tuvalu        Western Pacific   \n",
       "180                                     Uganda                 Africa   \n",
       "181                                    Ukraine                 Europe   \n",
       "182                       United Arab Emirates  Eastern Mediterranean   \n",
       "183                             United Kingdom                 Europe   \n",
       "184                United Republic of Tanzania                 Africa   \n",
       "185                   United States of America               Americas   \n",
       "186                                    Uruguay               Americas   \n",
       "187                                 Uzbekistan                 Europe   \n",
       "188                                    Vanuatu        Western Pacific   \n",
       "189         Venezuela (Bolivarian Republic of)               Americas   \n",
       "190                                   Viet Nam        Western Pacific   \n",
       "191                                      Yemen  Eastern Mediterranean   \n",
       "192                                     Zambia                 Africa   \n",
       "193                                   Zimbabwe                 Africa   \n",
       "\n",
       "     Population  Under15  Over60  FertilityRate  LifeExpectancy  \\\n",
       "0         29825    47.42    3.82           5.40              60   \n",
       "1          3162    21.33   14.93           1.75              74   \n",
       "2         38482    27.42    7.17           2.83              73   \n",
       "3            78    15.20   22.86           0.00              82   \n",
       "4         20821    47.58    3.84           6.10              51   \n",
       "5            89    25.96   12.35           2.12              75   \n",
       "6         41087    24.42   14.97           2.20              76   \n",
       "7          2969    20.34   14.06           1.74              71   \n",
       "8         23050    18.95   19.46           1.89              82   \n",
       "9          8464    14.51   23.52           1.44              81   \n",
       "10         9309    22.25    8.24           1.96              71   \n",
       "11          372    21.62   11.24           1.90              75   \n",
       "12         1318    20.16    3.38           2.12              79   \n",
       "13       155000    30.57    6.89           2.24              70   \n",
       "14          283    18.99   15.78           1.84              78   \n",
       "15         9405    15.10   19.31           1.47              71   \n",
       "16        11060    16.88   23.81           1.85              80   \n",
       "17          324    34.40    5.74           2.76              74   \n",
       "18        10051    42.95    4.54           5.01              57   \n",
       "19          742    28.53    6.90           2.32              67   \n",
       "20        10496    35.23    7.28           3.31              67   \n",
       "21         3834    16.35   20.52           1.26              76   \n",
       "22         2004    33.75    5.63           2.71              66   \n",
       "23       199000    24.56   10.81           1.82              74   \n",
       "24          412    25.75    7.03           2.03              77   \n",
       "25         7278    13.53   26.11           1.51              74   \n",
       "26        16460    45.66    3.88           5.78              56   \n",
       "27         9850    44.20    3.87           6.21              53   \n",
       "28        14865    31.23    7.67           2.93              65   \n",
       "29        21700    43.08    4.89           4.94              53   \n",
       "..          ...      ...     ...            ...             ...   \n",
       "164         535    27.83    9.55           2.32              72   \n",
       "165        1231    38.05    5.34           3.48              50   \n",
       "166        9511    16.71   25.32           1.93              82   \n",
       "167        7997    14.79   23.25           1.51              83   \n",
       "168       21890    35.35    6.09           3.04              75   \n",
       "169        8009    35.75    4.80           3.81              68   \n",
       "170       66785    18.47   13.96           1.43              74   \n",
       "171        2106    16.89   17.56           1.44              75   \n",
       "172        1114    46.33    5.16           6.11              64   \n",
       "173        6643    41.89    4.44           4.75              56   \n",
       "174         105    37.33    7.96           3.86              72   \n",
       "175        1337    20.73   13.18           1.80              71   \n",
       "176       10875    23.22   10.49           2.04              76   \n",
       "177       73997    26.00   10.56           2.08              76   \n",
       "178        5173    28.65    6.30           2.38              63   \n",
       "179          10    30.61    9.07           0.00              64   \n",
       "180       36346    48.54    3.72           6.06              56   \n",
       "181       45530    14.18   20.76           1.45              71   \n",
       "182        9206    14.41    0.81           1.84              76   \n",
       "183       62783    17.54   23.06           1.90              80   \n",
       "184       47783    44.85    4.89           5.36              59   \n",
       "185      318000    19.63   19.31           2.00              79   \n",
       "186        3395    22.05   18.59           2.07              77   \n",
       "187       28541    28.90    6.38           2.38              68   \n",
       "188         247    37.37    6.02           3.46              72   \n",
       "189       29955    28.84    9.17           2.44              75   \n",
       "190       90796    22.87    9.32           1.79              75   \n",
       "191       23852    40.72    4.54           4.35              64   \n",
       "192       14075    46.73    3.95           5.77              55   \n",
       "193       13724    40.24    5.68           3.64              54   \n",
       "\n",
       "     ChildMortality  CellularSubscribers  LiteracyRate    GNI  \\\n",
       "0              98.5                54.26           0.0   1140   \n",
       "1              16.7                96.39           0.0   8820   \n",
       "2              20.0                98.99           0.0   8310   \n",
       "3               3.2                75.49           0.0      0   \n",
       "4             163.5                48.38          70.1   5230   \n",
       "5               9.9               196.41          99.0  17900   \n",
       "6              14.2               134.92          97.8  17130   \n",
       "7              16.4               103.57          99.6   6100   \n",
       "8               4.9               108.34           0.0  38110   \n",
       "9               4.0               154.78           0.0  42050   \n",
       "10             35.2               108.75           0.0   8960   \n",
       "11             16.9                86.06           0.0      0   \n",
       "12              9.6               127.96          91.9      0   \n",
       "13             40.9                56.06          56.8   1940   \n",
       "14             18.4               127.01           0.0      0   \n",
       "15              5.2               111.88           0.0  14460   \n",
       "16              4.2               116.61           0.0  39190   \n",
       "17             18.3                69.96           0.0   6090   \n",
       "18             89.5                85.33          42.4   1620   \n",
       "19             44.6                65.58           0.0   5570   \n",
       "20             41.4                82.82           0.0   4890   \n",
       "21              6.7                84.52          97.9   9190   \n",
       "22             53.3               142.82          84.5  14550   \n",
       "23             14.4               124.26           0.0  11420   \n",
       "24              8.0               109.17          95.2      0   \n",
       "25             12.1               140.68           0.0  14160   \n",
       "26            102.4                45.27           0.0   1300   \n",
       "27            104.3                22.33          67.2    610   \n",
       "28             39.7                96.17           0.0   2230   \n",
       "29             94.9                52.35           0.0   2330   \n",
       "..              ...                  ...           ...    ...   \n",
       "164            20.8               178.88          94.7      0   \n",
       "165            79.7                63.70          87.4   5930   \n",
       "166             2.9               118.57           0.0  42200   \n",
       "167             4.3               131.43           0.0  52570   \n",
       "168            15.1                63.17          83.4      0   \n",
       "169            58.3                90.64          99.7   2300   \n",
       "170            13.2               111.63           0.0   8360   \n",
       "171             7.4               107.24          97.3  11090   \n",
       "172            56.7                53.23          58.3      0   \n",
       "173            95.5                50.45           0.0   1040   \n",
       "174            12.8                52.63           0.0   5000   \n",
       "175            20.7               135.64          98.8      0   \n",
       "176            16.1               116.93           0.0   9030   \n",
       "177            14.2                88.70           0.0  16940   \n",
       "178            52.8                68.77          99.6   8690   \n",
       "179            29.7                21.63           0.0      0   \n",
       "180            68.9                48.38          73.2   1310   \n",
       "181            10.7               122.98          99.7   7040   \n",
       "182             8.4               148.62           0.0  47890   \n",
       "183             4.8               130.75           0.0  36010   \n",
       "184            54.0                55.53          73.2   1500   \n",
       "185             7.1                92.72           0.0  48820   \n",
       "186             7.2               140.75          98.1  14640   \n",
       "187            39.6                91.65          99.4   3420   \n",
       "188            17.9                55.76          82.6   4330   \n",
       "189            15.3                97.78           0.0  12430   \n",
       "190            23.0               143.39          93.2   3250   \n",
       "191            60.0                47.05          63.9   2170   \n",
       "192            88.5                60.59          71.2   1490   \n",
       "193            89.8                72.13          92.2      0   \n",
       "\n",
       "     PrimarySchoolEnrollmentMale  PrimarySchoolEnrollmentFemale  \n",
       "0                            0.0                            0.0  \n",
       "1                            0.0                            0.0  \n",
       "2                           98.2                           96.4  \n",
       "3                           78.4                           79.4  \n",
       "4                           93.1                           78.2  \n",
       "5                           91.1                           84.5  \n",
       "6                            0.0                            0.0  \n",
       "7                            0.0                            0.0  \n",
       "8                           96.9                           97.5  \n",
       "9                            0.0                            0.0  \n",
       "10                          85.3                           84.1  \n",
       "11                           0.0                            0.0  \n",
       "12                           0.0                            0.0  \n",
       "13                           0.0                            0.0  \n",
       "14                           0.0                            0.0  \n",
       "15                           0.0                            0.0  \n",
       "16                          98.9                           99.2  \n",
       "17                           0.0                            0.0  \n",
       "18                           0.0                            0.0  \n",
       "19                          88.3                           91.5  \n",
       "20                          91.2                           91.5  \n",
       "21                          86.5                           88.4  \n",
       "22                           0.0                            0.0  \n",
       "23                           0.0                            0.0  \n",
       "24                           0.0                            0.0  \n",
       "25                          99.3                           99.7  \n",
       "26                          60.7                           55.9  \n",
       "27                           0.0                            0.0  \n",
       "28                          96.4                           95.4  \n",
       "29                          99.6                           87.4  \n",
       "..                           ...                            ...  \n",
       "164                          0.0                            0.0  \n",
       "165                          0.0                            0.0  \n",
       "166                         99.7                           99.0  \n",
       "167                         98.9                           99.5  \n",
       "168                          0.0                            0.0  \n",
       "169                         99.5                           96.0  \n",
       "170                          0.0                            0.0  \n",
       "171                         97.3                           99.2  \n",
       "172                         86.2                           85.6  \n",
       "173                          0.0                            0.0  \n",
       "174                          0.0                            0.0  \n",
       "175                         97.7                           97.0  \n",
       "176                          0.0                            0.0  \n",
       "177                         99.5                           98.3  \n",
       "178                          0.0                            0.0  \n",
       "179                          0.0                            0.0  \n",
       "180                         89.7                           92.3  \n",
       "181                         90.8                           91.5  \n",
       "182                          0.0                            0.0  \n",
       "183                         99.8                           99.6  \n",
       "184                          0.0                            0.0  \n",
       "185                         95.4                           96.1  \n",
       "186                          0.0                            0.0  \n",
       "187                         93.3                           91.0  \n",
       "188                          0.0                            0.0  \n",
       "189                         94.7                           95.1  \n",
       "190                          0.0                            0.0  \n",
       "191                         85.5                           70.5  \n",
       "192                         91.4                           93.9  \n",
       "193                          0.0                            0.0  \n",
       "\n",
       "[194 rows x 13 columns]"
      ]
     },
     "execution_count": 3,
     "metadata": {},
     "output_type": "execute_result"
    }
   ],
   "source": [
    "data"
   ]
  },
  {
   "cell_type": "code",
   "execution_count": 4,
   "metadata": {},
   "outputs": [
    {
     "data": {
      "text/plain": [
       "Country                           0\n",
       "Region                            0\n",
       "Population                        0\n",
       "Under15                           0\n",
       "Over60                            0\n",
       "FertilityRate                    11\n",
       "LifeExpectancy                    0\n",
       "ChildMortality                    0\n",
       "CellularSubscribers              10\n",
       "LiteracyRate                     91\n",
       "GNI                              32\n",
       "PrimarySchoolEnrollmentMale      93\n",
       "PrimarySchoolEnrollmentFemale    93\n",
       "dtype: int64"
      ]
     },
     "execution_count": 4,
     "metadata": {},
     "output_type": "execute_result"
    }
   ],
   "source": [
    "# checking missing values\n",
    "data[data==0].count()"
   ]
  },
  {
   "cell_type": "markdown",
   "metadata": {},
   "source": [
    "# treating missing data"
   ]
  },
  {
   "cell_type": "code",
   "execution_count": 5,
   "metadata": {},
   "outputs": [
    {
     "name": "stderr",
     "output_type": "stream",
     "text": [
      "C:\\ProgramData\\Anaconda3\\lib\\site-packages\\ipykernel_launcher.py:3: SettingWithCopyWarning: \n",
      "A value is trying to be set on a copy of a slice from a DataFrame\n",
      "\n",
      "See the caveats in the documentation: http://pandas.pydata.org/pandas-docs/stable/indexing.html#indexing-view-versus-copy\n",
      "  This is separate from the ipykernel package so we can avoid doing imports until\n"
     ]
    }
   ],
   "source": [
    "for i in data['Region'].unique():\n",
    "    li = list(data[(data['FertilityRate'] == 0.0) & (data['Region'] == i)]['FertilityRate'].index )\n",
    "    data['FertilityRate'][li] = data['FertilityRate'][data['Region']==i].mean()"
   ]
  },
  {
   "cell_type": "code",
   "execution_count": 6,
   "metadata": {},
   "outputs": [
    {
     "name": "stderr",
     "output_type": "stream",
     "text": [
      "C:\\ProgramData\\Anaconda3\\lib\\site-packages\\ipykernel_launcher.py:2: SettingWithCopyWarning: \n",
      "A value is trying to be set on a copy of a slice from a DataFrame\n",
      "\n",
      "See the caveats in the documentation: http://pandas.pydata.org/pandas-docs/stable/indexing.html#indexing-view-versus-copy\n",
      "  \n"
     ]
    }
   ],
   "source": [
    "\n",
    "li = list(data[data['CellularSubscribers'] == 0].index)\n",
    "data['CellularSubscribers'][li] = data['CellularSubscribers'].mean()"
   ]
  },
  {
   "cell_type": "code",
   "execution_count": 7,
   "metadata": {},
   "outputs": [
    {
     "name": "stderr",
     "output_type": "stream",
     "text": [
      "C:\\ProgramData\\Anaconda3\\lib\\site-packages\\ipykernel_launcher.py:2: SettingWithCopyWarning: \n",
      "A value is trying to be set on a copy of a slice from a DataFrame\n",
      "\n",
      "See the caveats in the documentation: http://pandas.pydata.org/pandas-docs/stable/indexing.html#indexing-view-versus-copy\n",
      "  \n"
     ]
    }
   ],
   "source": [
    "li1 = list(data[data['GNI'] == 0].index)\n",
    "data['GNI'][li1] = data.GNI.sum()/(194-32)"
   ]
  },
  {
   "cell_type": "code",
   "execution_count": 8,
   "metadata": {},
   "outputs": [
    {
     "name": "stderr",
     "output_type": "stream",
     "text": [
      "C:\\ProgramData\\Anaconda3\\lib\\site-packages\\ipykernel_launcher.py:3: SettingWithCopyWarning: \n",
      "A value is trying to be set on a copy of a slice from a DataFrame\n",
      "\n",
      "See the caveats in the documentation: http://pandas.pydata.org/pandas-docs/stable/indexing.html#indexing-view-versus-copy\n",
      "  This is separate from the ipykernel package so we can avoid doing imports until\n"
     ]
    }
   ],
   "source": [
    "for i in data['Region'].unique():\n",
    "    li = list(data[(data['LiteracyRate'] == 0.0) & (data['Region'] == i)]['LiteracyRate'].index )\n",
    "    data['LiteracyRate'][li] = data['LiteracyRate'].sum()/(194-91)"
   ]
  },
  {
   "cell_type": "code",
   "execution_count": 9,
   "metadata": {},
   "outputs": [],
   "source": [
    "# both columns correlated to literacy rate soo we drop these columns\n",
    "data.drop(['PrimarySchoolEnrollmentMale','PrimarySchoolEnrollmentFemale'], axis = 1, inplace = True)"
   ]
  },
  {
   "cell_type": "markdown",
   "metadata": {},
   "source": [
    "# treating string columns"
   ]
  },
  {
   "cell_type": "code",
   "execution_count": 10,
   "metadata": {},
   "outputs": [],
   "source": [
    "# droping continuous string data\n",
    "data.drop(['Country'], axis = 1, inplace = True)"
   ]
  },
  {
   "cell_type": "code",
   "execution_count": 11,
   "metadata": {},
   "outputs": [],
   "source": [
    "import seaborn as sns"
   ]
  },
  {
   "cell_type": "code",
   "execution_count": 12,
   "metadata": {},
   "outputs": [],
   "source": [
    "import matplotlib.pyplot as plt"
   ]
  },
  {
   "cell_type": "code",
   "execution_count": 13,
   "metadata": {},
   "outputs": [],
   "source": [
    "from sklearn import preprocessing"
   ]
  },
  {
   "cell_type": "code",
   "execution_count": 14,
   "metadata": {},
   "outputs": [],
   "source": [
    "# replacing strings of catagorical data to integer\n",
    "encoder = preprocessing.LabelEncoder()\n",
    "for i in data.columns:\n",
    "    if isinstance(data[i][0], str):\n",
    "        data[i] = encoder.fit_transform(data[i])"
   ]
  },
  {
   "cell_type": "code",
   "execution_count": 15,
   "metadata": {},
   "outputs": [
    {
     "data": {
      "text/html": [
       "<div>\n",
       "<style scoped>\n",
       "    .dataframe tbody tr th:only-of-type {\n",
       "        vertical-align: middle;\n",
       "    }\n",
       "\n",
       "    .dataframe tbody tr th {\n",
       "        vertical-align: top;\n",
       "    }\n",
       "\n",
       "    .dataframe thead th {\n",
       "        text-align: right;\n",
       "    }\n",
       "</style>\n",
       "<table border=\"1\" class=\"dataframe\">\n",
       "  <thead>\n",
       "    <tr style=\"text-align: right;\">\n",
       "      <th></th>\n",
       "      <th>Region</th>\n",
       "      <th>Population</th>\n",
       "      <th>Under15</th>\n",
       "      <th>Over60</th>\n",
       "      <th>FertilityRate</th>\n",
       "      <th>LifeExpectancy</th>\n",
       "      <th>ChildMortality</th>\n",
       "      <th>CellularSubscribers</th>\n",
       "      <th>LiteracyRate</th>\n",
       "      <th>GNI</th>\n",
       "    </tr>\n",
       "  </thead>\n",
       "  <tbody>\n",
       "    <tr>\n",
       "      <th>0</th>\n",
       "      <td>2</td>\n",
       "      <td>29825</td>\n",
       "      <td>47.42</td>\n",
       "      <td>3.82</td>\n",
       "      <td>5.400000</td>\n",
       "      <td>60</td>\n",
       "      <td>98.5</td>\n",
       "      <td>54.26</td>\n",
       "      <td>83.71068</td>\n",
       "      <td>1140.000000</td>\n",
       "    </tr>\n",
       "    <tr>\n",
       "      <th>1</th>\n",
       "      <td>3</td>\n",
       "      <td>3162</td>\n",
       "      <td>21.33</td>\n",
       "      <td>14.93</td>\n",
       "      <td>1.750000</td>\n",
       "      <td>74</td>\n",
       "      <td>16.7</td>\n",
       "      <td>96.39</td>\n",
       "      <td>93.46338</td>\n",
       "      <td>8820.000000</td>\n",
       "    </tr>\n",
       "    <tr>\n",
       "      <th>2</th>\n",
       "      <td>0</td>\n",
       "      <td>38482</td>\n",
       "      <td>27.42</td>\n",
       "      <td>7.17</td>\n",
       "      <td>2.830000</td>\n",
       "      <td>73</td>\n",
       "      <td>20.0</td>\n",
       "      <td>98.99</td>\n",
       "      <td>117.96349</td>\n",
       "      <td>8310.000000</td>\n",
       "    </tr>\n",
       "    <tr>\n",
       "      <th>3</th>\n",
       "      <td>3</td>\n",
       "      <td>78</td>\n",
       "      <td>15.20</td>\n",
       "      <td>22.86</td>\n",
       "      <td>1.661509</td>\n",
       "      <td>82</td>\n",
       "      <td>3.2</td>\n",
       "      <td>75.49</td>\n",
       "      <td>93.46338</td>\n",
       "      <td>13320.925926</td>\n",
       "    </tr>\n",
       "    <tr>\n",
       "      <th>4</th>\n",
       "      <td>0</td>\n",
       "      <td>20821</td>\n",
       "      <td>47.58</td>\n",
       "      <td>3.84</td>\n",
       "      <td>6.100000</td>\n",
       "      <td>51</td>\n",
       "      <td>163.5</td>\n",
       "      <td>48.38</td>\n",
       "      <td>70.10000</td>\n",
       "      <td>5230.000000</td>\n",
       "    </tr>\n",
       "  </tbody>\n",
       "</table>\n",
       "</div>"
      ],
      "text/plain": [
       "   Region  Population  Under15  Over60  FertilityRate  LifeExpectancy  \\\n",
       "0       2       29825    47.42    3.82       5.400000              60   \n",
       "1       3        3162    21.33   14.93       1.750000              74   \n",
       "2       0       38482    27.42    7.17       2.830000              73   \n",
       "3       3          78    15.20   22.86       1.661509              82   \n",
       "4       0       20821    47.58    3.84       6.100000              51   \n",
       "\n",
       "   ChildMortality  CellularSubscribers  LiteracyRate           GNI  \n",
       "0            98.5                54.26      83.71068   1140.000000  \n",
       "1            16.7                96.39      93.46338   8820.000000  \n",
       "2            20.0                98.99     117.96349   8310.000000  \n",
       "3             3.2                75.49      93.46338  13320.925926  \n",
       "4           163.5                48.38      70.10000   5230.000000  "
      ]
     },
     "execution_count": 15,
     "metadata": {},
     "output_type": "execute_result"
    }
   ],
   "source": [
    "data.head()"
   ]
  },
  {
   "cell_type": "markdown",
   "metadata": {},
   "source": [
    "###### data visualisation"
   ]
  },
  {
   "cell_type": "code",
   "execution_count": 16,
   "metadata": {},
   "outputs": [
    {
     "data": {
      "text/plain": [
       "<seaborn.axisgrid.JointGrid at 0x204dab258d0>"
      ]
     },
     "execution_count": 16,
     "metadata": {},
     "output_type": "execute_result"
    },
    {
     "data": {
      "image/png": "[encoded data removed]",
      "text/plain": [
       "<Figure size 432x432 with 3 Axes>"
      ]
     },
     "metadata": {
      "needs_background": "light"
     },
     "output_type": "display_data"
    }
   ],
   "source": [
    "sns.jointplot(x='LifeExpectancy',y='Population',data=data)"
   ]
  },
  {
   "cell_type": "code",
   "execution_count": 17,
   "metadata": {},
   "outputs": [
    {
     "data": {
      "text/plain": [
       "<seaborn.axisgrid.JointGrid at 0x204dafb5cc0>"
      ]
     },
     "execution_count": 17,
     "metadata": {},
     "output_type": "execute_result"
    },
    {
     "data": {
      "image/png": "[encoded data removed]",
      "text/plain": [
       "<Figure size 432x432 with 3 Axes>"
      ]
     },
     "metadata": {
      "needs_background": "light"
     },
     "output_type": "display_data"
    }
   ],
   "source": [
    "sns.jointplot(x='LifeExpectancy',y='Under15',data=data,kind='hex')"
   ]
  },
  {
   "cell_type": "code",
   "execution_count": 18,
   "metadata": {},
   "outputs": [
    {
     "data": {
      "text/plain": [
       "<seaborn.axisgrid.JointGrid at 0x204db0fda58>"
      ]
     },
     "execution_count": 18,
     "metadata": {},
     "output_type": "execute_result"
    },
    {
     "data": {
      "image/png": "[encoded data removed]",
      "text/plain": [
       "<Figure size 432x432 with 3 Axes>"
      ]
     },
     "metadata": {
      "needs_background": "light"
     },
     "output_type": "display_data"
    }
   ],
   "source": [
    "sns.jointplot(x='LifeExpectancy',y='Over60',data=data,kind='hex')"
   ]
  },
  {
   "cell_type": "code",
   "execution_count": 19,
   "metadata": {},
   "outputs": [
    {
     "data": {
      "text/plain": [
       "<seaborn.axisgrid.JointGrid at 0x204db2397b8>"
      ]
     },
     "execution_count": 19,
     "metadata": {},
     "output_type": "execute_result"
    },
    {
     "data": {
      "image/png": "[encoded data removed]",
      "text/plain": [
       "<Figure size 432x432 with 3 Axes>"
      ]
     },
     "metadata": {
      "needs_background": "light"
     },
     "output_type": "display_data"
    }
   ],
   "source": [
    "sns.jointplot(x='LifeExpectancy',y='LiteracyRate',data=data)"
   ]
  },
  {
   "cell_type": "markdown",
   "metadata": {},
   "source": [
    "# checking accuracy"
   ]
  },
  {
   "cell_type": "code",
   "execution_count": 20,
   "metadata": {},
   "outputs": [],
   "source": [
    "x = data.drop(['LifeExpectancy'], axis = 1)"
   ]
  },
  {
   "cell_type": "code",
   "execution_count": 21,
   "metadata": {},
   "outputs": [],
   "source": [
    "y = data['LifeExpectancy']"
   ]
  },
  {
   "cell_type": "code",
   "execution_count": 22,
   "metadata": {},
   "outputs": [],
   "source": [
    "from sklearn.model_selection import train_test_split\n",
    "train_x,test_x,train_y,test_y = train_test_split(x, y, test_size = .5, random_state = 1)"
   ]
  },
  {
   "cell_type": "code",
   "execution_count": 23,
   "metadata": {},
   "outputs": [],
   "source": [
    "from sklearn import linear_model\n",
    "lm = linear_model.LinearRegression()"
   ]
  },
  {
   "cell_type": "code",
   "execution_count": 24,
   "metadata": {},
   "outputs": [
    {
     "data": {
      "text/plain": [
       "LinearRegression(copy_X=True, fit_intercept=True, n_jobs=None, normalize=False)"
      ]
     },
     "execution_count": 24,
     "metadata": {},
     "output_type": "execute_result"
    }
   ],
   "source": [
    "lm.fit(train_x,train_y)"
   ]
  },
  {
   "cell_type": "code",
   "execution_count": 25,
   "metadata": {},
   "outputs": [
    {
     "data": {
      "text/plain": [
       "86.53042061290233"
      ]
     },
     "execution_count": 25,
     "metadata": {},
     "output_type": "execute_result"
    }
   ],
   "source": [
    "lm.score(test_x,test_y)*100"
   ]
  },
  {
   "cell_type": "markdown",
   "metadata": {},
   "source": [
    "# treating outlyers"
   ]
  },
  {
   "cell_type": "code",
   "execution_count": 26,
   "metadata": {},
   "outputs": [],
   "source": [
    "import matplotlib.pyplot as plt"
   ]
  },
  {
   "cell_type": "code",
   "execution_count": 27,
   "metadata": {},
   "outputs": [
    {
     "data": {
      "text/plain": [
       "<matplotlib.collections.PathCollection at 0x204db5974a8>"
      ]
     },
     "execution_count": 27,
     "metadata": {},
     "output_type": "execute_result"
    },
    {
     "data": {
      "image/png": "[encoded data removed]",
      "text/plain": [
       "<Figure size 432x288 with 1 Axes>"
      ]
     },
     "metadata": {
      "needs_background": "light"
     },
     "output_type": "display_data"
    }
   ],
   "source": [
    "plt.scatter(data.Population.index,data.Population)"
   ]
  },
  {
   "cell_type": "code",
   "execution_count": 28,
   "metadata": {},
   "outputs": [
    {
     "data": {
      "text/plain": [
       "[35, 77]"
      ]
     },
     "execution_count": 28,
     "metadata": {},
     "output_type": "execute_result"
    }
   ],
   "source": [
    "# using zscore to find outlyers\n",
    "from scipy import stats\n",
    "import numpy as np\n",
    "li = list(data['Population'][np.abs(stats.zscore(data['Population']))>3].index)\n",
    "li"
   ]
  },
  {
   "cell_type": "code",
   "execution_count": 29,
   "metadata": {},
   "outputs": [
    {
     "name": "stderr",
     "output_type": "stream",
     "text": [
      "C:\\ProgramData\\Anaconda3\\lib\\site-packages\\ipykernel_launcher.py:1: SettingWithCopyWarning: \n",
      "A value is trying to be set on a copy of a slice from a DataFrame\n",
      "\n",
      "See the caveats in the documentation: http://pandas.pydata.org/pandas-docs/stable/indexing.html#indexing-view-versus-copy\n",
      "  \"\"\"Entry point for launching an IPython kernel.\n"
     ]
    }
   ],
   "source": [
    "data['Population'][li] = data['Population'].mean()"
   ]
  },
  {
   "cell_type": "code",
   "execution_count": 30,
   "metadata": {},
   "outputs": [
    {
     "data": {
      "text/html": [
       "<div>\n",
       "<style scoped>\n",
       "    .dataframe tbody tr th:only-of-type {\n",
       "        vertical-align: middle;\n",
       "    }\n",
       "\n",
       "    .dataframe tbody tr th {\n",
       "        vertical-align: top;\n",
       "    }\n",
       "\n",
       "    .dataframe thead th {\n",
       "        text-align: right;\n",
       "    }\n",
       "</style>\n",
       "<table border=\"1\" class=\"dataframe\">\n",
       "  <thead>\n",
       "    <tr style=\"text-align: right;\">\n",
       "      <th></th>\n",
       "      <th>Region</th>\n",
       "      <th>Population</th>\n",
       "      <th>Under15</th>\n",
       "      <th>Over60</th>\n",
       "      <th>FertilityRate</th>\n",
       "      <th>LifeExpectancy</th>\n",
       "      <th>ChildMortality</th>\n",
       "      <th>CellularSubscribers</th>\n",
       "      <th>LiteracyRate</th>\n",
       "      <th>GNI</th>\n",
       "    </tr>\n",
       "  </thead>\n",
       "  <tbody>\n",
       "    <tr>\n",
       "      <th>0</th>\n",
       "      <td>2</td>\n",
       "      <td>29825.0</td>\n",
       "      <td>47.42</td>\n",
       "      <td>3.82</td>\n",
       "      <td>5.400000</td>\n",
       "      <td>60</td>\n",
       "      <td>98.5</td>\n",
       "      <td>54.26</td>\n",
       "      <td>83.71068</td>\n",
       "      <td>1140.000000</td>\n",
       "    </tr>\n",
       "    <tr>\n",
       "      <th>1</th>\n",
       "      <td>3</td>\n",
       "      <td>3162.0</td>\n",
       "      <td>21.33</td>\n",
       "      <td>14.93</td>\n",
       "      <td>1.750000</td>\n",
       "      <td>74</td>\n",
       "      <td>16.7</td>\n",
       "      <td>96.39</td>\n",
       "      <td>93.46338</td>\n",
       "      <td>8820.000000</td>\n",
       "    </tr>\n",
       "    <tr>\n",
       "      <th>2</th>\n",
       "      <td>0</td>\n",
       "      <td>38482.0</td>\n",
       "      <td>27.42</td>\n",
       "      <td>7.17</td>\n",
       "      <td>2.830000</td>\n",
       "      <td>73</td>\n",
       "      <td>20.0</td>\n",
       "      <td>98.99</td>\n",
       "      <td>117.96349</td>\n",
       "      <td>8310.000000</td>\n",
       "    </tr>\n",
       "    <tr>\n",
       "      <th>3</th>\n",
       "      <td>3</td>\n",
       "      <td>78.0</td>\n",
       "      <td>15.20</td>\n",
       "      <td>22.86</td>\n",
       "      <td>1.661509</td>\n",
       "      <td>82</td>\n",
       "      <td>3.2</td>\n",
       "      <td>75.49</td>\n",
       "      <td>93.46338</td>\n",
       "      <td>13320.925926</td>\n",
       "    </tr>\n",
       "    <tr>\n",
       "      <th>4</th>\n",
       "      <td>0</td>\n",
       "      <td>20821.0</td>\n",
       "      <td>47.58</td>\n",
       "      <td>3.84</td>\n",
       "      <td>6.100000</td>\n",
       "      <td>51</td>\n",
       "      <td>163.5</td>\n",
       "      <td>48.38</td>\n",
       "      <td>70.10000</td>\n",
       "      <td>5230.000000</td>\n",
       "    </tr>\n",
       "  </tbody>\n",
       "</table>\n",
       "</div>"
      ],
      "text/plain": [
       "   Region  Population  Under15  Over60  FertilityRate  LifeExpectancy  \\\n",
       "0       2     29825.0    47.42    3.82       5.400000              60   \n",
       "1       3      3162.0    21.33   14.93       1.750000              74   \n",
       "2       0     38482.0    27.42    7.17       2.830000              73   \n",
       "3       3        78.0    15.20   22.86       1.661509              82   \n",
       "4       0     20821.0    47.58    3.84       6.100000              51   \n",
       "\n",
       "   ChildMortality  CellularSubscribers  LiteracyRate           GNI  \n",
       "0            98.5                54.26      83.71068   1140.000000  \n",
       "1            16.7                96.39      93.46338   8820.000000  \n",
       "2            20.0                98.99     117.96349   8310.000000  \n",
       "3             3.2                75.49      93.46338  13320.925926  \n",
       "4           163.5                48.38      70.10000   5230.000000  "
      ]
     },
     "execution_count": 30,
     "metadata": {},
     "output_type": "execute_result"
    }
   ],
   "source": [
    "data.head()"
   ]
  },
  {
   "cell_type": "code",
   "execution_count": 31,
   "metadata": {},
   "outputs": [
    {
     "data": {
      "text/plain": [
       "[]"
      ]
     },
     "execution_count": 31,
     "metadata": {},
     "output_type": "execute_result"
    }
   ],
   "source": [
    "list(data['Under15'][np.abs(stats.zscore(data['Under15']))>3])"
   ]
  },
  {
   "cell_type": "code",
   "execution_count": 32,
   "metadata": {},
   "outputs": [
    {
     "data": {
      "text/plain": [
       "<matplotlib.collections.PathCollection at 0x204db60e128>"
      ]
     },
     "execution_count": 32,
     "metadata": {},
     "output_type": "execute_result"
    },
    {
     "data": {
      "image/png": "[encoded data removed]",
      "text/plain": [
       "<Figure size 432x288 with 1 Axes>"
      ]
     },
     "metadata": {
      "needs_background": "light"
     },
     "output_type": "display_data"
    }
   ],
   "source": [
    "plt.scatter(data['Under15'].index,data['Under15'])"
   ]
  },
  {
   "cell_type": "code",
   "execution_count": 33,
   "metadata": {},
   "outputs": [
    {
     "data": {
      "text/plain": [
       "<matplotlib.collections.PathCollection at 0x204db67d0b8>"
      ]
     },
     "execution_count": 33,
     "metadata": {},
     "output_type": "execute_result"
    },
    {
     "data": {
      "image/png": "[encoded data removed]",
      "text/plain": [
       "<Figure size 432x288 with 1 Axes>"
      ]
     },
     "metadata": {
      "needs_background": "light"
     },
     "output_type": "display_data"
    }
   ],
   "source": [
    "plt.scatter(data['Over60'].index,data['Over60'])"
   ]
  },
  {
   "cell_type": "code",
   "execution_count": 34,
   "metadata": {},
   "outputs": [
    {
     "data": {
      "text/plain": [
       "<matplotlib.collections.PathCollection at 0x204dc6af940>"
      ]
     },
     "execution_count": 34,
     "metadata": {},
     "output_type": "execute_result"
    },
    {
     "data": {
      "image/png": "[encoded data removed]",
      "text/plain": [
       "<Figure size 432x288 with 1 Axes>"
      ]
     },
     "metadata": {
      "needs_background": "light"
     },
     "output_type": "display_data"
    }
   ],
   "source": [
    "plt.scatter(data['FertilityRate'].index, data['FertilityRate'])"
   ]
  },
  {
   "cell_type": "code",
   "execution_count": 35,
   "metadata": {},
   "outputs": [
    {
     "data": {
      "text/plain": [
       "<matplotlib.collections.PathCollection at 0x204dc7251d0>"
      ]
     },
     "execution_count": 35,
     "metadata": {},
     "output_type": "execute_result"
    },
    {
     "data": {
      "image/png": "[encoded data removed]",
      "text/plain": [
       "<Figure size 432x288 with 1 Axes>"
      ]
     },
     "metadata": {
      "needs_background": "light"
     },
     "output_type": "display_data"
    }
   ],
   "source": [
    "plt.scatter(data['ChildMortality'].index, data['ChildMortality'])"
   ]
  },
  {
   "cell_type": "code",
   "execution_count": 36,
   "metadata": {},
   "outputs": [
    {
     "data": {
      "text/plain": [
       "[4, 153]"
      ]
     },
     "execution_count": 36,
     "metadata": {},
     "output_type": "execute_result"
    }
   ],
   "source": [
    "li = list(data['ChildMortality'][np.abs(stats.zscore(data['ChildMortality']))>3].index)\n",
    "li"
   ]
  },
  {
   "cell_type": "code",
   "execution_count": 37,
   "metadata": {},
   "outputs": [],
   "source": [
    "from scipy import stats"
   ]
  },
  {
   "cell_type": "code",
   "execution_count": 38,
   "metadata": {},
   "outputs": [
    {
     "data": {
      "text/plain": [
       "[4, 32, 33, 47, 71, 104, 123, 124, 153, 158]"
      ]
     },
     "execution_count": 38,
     "metadata": {},
     "output_type": "execute_result"
    }
   ],
   "source": [
    "li = list(data['ChildMortality'][np.abs(stats.zscore(data['ChildMortality'])>2)].index)\n",
    "li"
   ]
  },
  {
   "cell_type": "code",
   "execution_count": 39,
   "metadata": {},
   "outputs": [
    {
     "name": "stderr",
     "output_type": "stream",
     "text": [
      "C:\\ProgramData\\Anaconda3\\lib\\site-packages\\ipykernel_launcher.py:1: SettingWithCopyWarning: \n",
      "A value is trying to be set on a copy of a slice from a DataFrame\n",
      "\n",
      "See the caveats in the documentation: http://pandas.pydata.org/pandas-docs/stable/indexing.html#indexing-view-versus-copy\n",
      "  \"\"\"Entry point for launching an IPython kernel.\n"
     ]
    }
   ],
   "source": [
    "data['ChildMortality'][li] = data['ChildMortality'].mean()"
   ]
  },
  {
   "cell_type": "code",
   "execution_count": 40,
   "metadata": {},
   "outputs": [
    {
     "data": {
      "text/plain": [
       "<matplotlib.collections.PathCollection at 0x204dc785cc0>"
      ]
     },
     "execution_count": 40,
     "metadata": {},
     "output_type": "execute_result"
    },
    {
     "data": {
      "image/png": "[encoded data removed]",
      "text/plain": [
       "<Figure size 432x288 with 1 Axes>"
      ]
     },
     "metadata": {
      "needs_background": "light"
     },
     "output_type": "display_data"
    }
   ],
   "source": [
    "plt.scatter(data['CellularSubscribers'].index, data['CellularSubscribers'])"
   ]
  },
  {
   "cell_type": "code",
   "execution_count": 41,
   "metadata": {},
   "outputs": [
    {
     "data": {
      "text/plain": [
       "<matplotlib.collections.PathCollection at 0x204dc802160>"
      ]
     },
     "execution_count": 41,
     "metadata": {},
     "output_type": "execute_result"
    },
    {
     "data": {
      "image/png": "[encoded data removed]",
      "text/plain": [
       "<Figure size 432x288 with 1 Axes>"
      ]
     },
     "metadata": {
      "needs_background": "light"
     },
     "output_type": "display_data"
    }
   ],
   "source": [
    "plt.scatter(data['LiteracyRate'].index, data['LiteracyRate'])"
   ]
  },
  {
   "cell_type": "code",
   "execution_count": 42,
   "metadata": {},
   "outputs": [
    {
     "data": {
      "text/plain": [
       "<matplotlib.collections.PathCollection at 0x204dc86c160>"
      ]
     },
     "execution_count": 42,
     "metadata": {},
     "output_type": "execute_result"
    },
    {
     "data": {
      "image/png": "[encoded data removed]",
      "text/plain": [
       "<Figure size 432x288 with 1 Axes>"
      ]
     },
     "metadata": {
      "needs_background": "light"
     },
     "output_type": "display_data"
    }
   ],
   "source": [
    "plt.scatter(data['GNI'].index, data['GNI'])"
   ]
  },
  {
   "cell_type": "code",
   "execution_count": 43,
   "metadata": {},
   "outputs": [
    {
     "data": {
      "text/plain": [
       "[137]"
      ]
     },
     "execution_count": 43,
     "metadata": {},
     "output_type": "execute_result"
    }
   ],
   "source": [
    "li = list(data['GNI'][np.abs(stats.zscore(data['GNI']))>4].index)\n",
    "li"
   ]
  },
  {
   "cell_type": "code",
   "execution_count": 44,
   "metadata": {},
   "outputs": [
    {
     "name": "stderr",
     "output_type": "stream",
     "text": [
      "C:\\ProgramData\\Anaconda3\\lib\\site-packages\\ipykernel_launcher.py:1: SettingWithCopyWarning: \n",
      "A value is trying to be set on a copy of a slice from a DataFrame\n",
      "\n",
      "See the caveats in the documentation: http://pandas.pydata.org/pandas-docs/stable/indexing.html#indexing-view-versus-copy\n",
      "  \"\"\"Entry point for launching an IPython kernel.\n"
     ]
    }
   ],
   "source": [
    "data['GNI'][li] = data['GNI'].sort_values().iloc[-2]"
   ]
  },
  {
   "cell_type": "markdown",
   "metadata": {},
   "source": [
    "# checking accuracy again"
   ]
  },
  {
   "cell_type": "code",
   "execution_count": 45,
   "metadata": {},
   "outputs": [],
   "source": [
    "x = data.drop('LifeExpectancy', axis = 1)"
   ]
  },
  {
   "cell_type": "code",
   "execution_count": 46,
   "metadata": {},
   "outputs": [],
   "source": [
    "y = data['LifeExpectancy']"
   ]
  },
  {
   "cell_type": "code",
   "execution_count": 47,
   "metadata": {},
   "outputs": [],
   "source": [
    "train_x,test_x,train_y,test_y = train_test_split(x,y,test_size = .5, random_state = 1)"
   ]
  },
  {
   "cell_type": "code",
   "execution_count": 48,
   "metadata": {},
   "outputs": [
    {
     "data": {
      "text/plain": [
       "LinearRegression(copy_X=True, fit_intercept=True, n_jobs=None, normalize=False)"
      ]
     },
     "execution_count": 48,
     "metadata": {},
     "output_type": "execute_result"
    }
   ],
   "source": [
    "lm.fit(train_x,train_y)"
   ]
  },
  {
   "cell_type": "code",
   "execution_count": 49,
   "metadata": {},
   "outputs": [
    {
     "data": {
      "text/plain": [
       "79.61493224854618"
      ]
     },
     "execution_count": 49,
     "metadata": {},
     "output_type": "execute_result"
    }
   ],
   "source": [
    "lm.score(test_x,test_y)*100"
   ]
  },
  {
   "cell_type": "markdown",
   "metadata": {},
   "source": [
    "# feature selection"
   ]
  },
  {
   "cell_type": "code",
   "execution_count": 50,
   "metadata": {},
   "outputs": [],
   "source": [
    "from statsmodels.stats.outliers_influence import variance_inflation_factor\n",
    "from statsmodels.tools.tools import add_constant"
   ]
  },
  {
   "cell_type": "code",
   "execution_count": 51,
   "metadata": {},
   "outputs": [
    {
     "name": "stderr",
     "output_type": "stream",
     "text": [
      "C:\\ProgramData\\Anaconda3\\lib\\site-packages\\numpy\\core\\fromnumeric.py:2389: FutureWarning: Method .ptp is deprecated and will be removed in a future version. Use numpy.ptp instead.\n",
      "  return ptp(axis=axis, out=out, **kwargs)\n"
     ]
    }
   ],
   "source": [
    "x_vif = add_constant(x)"
   ]
  },
  {
   "cell_type": "code",
   "execution_count": 52,
   "metadata": {},
   "outputs": [
    {
     "data": {
      "text/plain": [
       "const                  145.706223\n",
       "Region                   1.617782\n",
       "Population               1.016312\n",
       "Under15                 17.915554\n",
       "Over60                   3.847700\n",
       "FertilityRate           10.569275\n",
       "ChildMortality           2.765821\n",
       "CellularSubscribers      1.818581\n",
       "LiteracyRate             1.453581\n",
       "GNI                      1.999163\n",
       "dtype: float64"
      ]
     },
     "execution_count": 52,
     "metadata": {},
     "output_type": "execute_result"
    }
   ],
   "source": [
    "pd.Series([variance_inflation_factor(x_vif.values,i) for i in range(x_vif.shape[1])], index = x_vif.columns)"
   ]
  },
  {
   "cell_type": "code",
   "execution_count": 53,
   "metadata": {},
   "outputs": [
    {
     "data": {
      "text/plain": [
       "F_onewayResult(statistic=10082.885411564352, pvalue=9.706078097650169e-279)"
      ]
     },
     "execution_count": 53,
     "metadata": {},
     "output_type": "execute_result"
    }
   ],
   "source": [
    "# using ANOVA for catagorical input data\n",
    "stats.f_oneway(x['Region'],y)"
   ]
  },
  {
   "cell_type": "code",
   "execution_count": 54,
   "metadata": {},
   "outputs": [],
   "source": [
    "# using corelation coefficient for catagoriagal input data\n",
    "# 'Region' will be removed\n",
    "colm = list(x.columns)"
   ]
  },
  {
   "cell_type": "code",
   "execution_count": 55,
   "metadata": {},
   "outputs": [],
   "source": [
    "colm.remove('Region')"
   ]
  },
  {
   "cell_type": "code",
   "execution_count": 56,
   "metadata": {},
   "outputs": [
    {
     "data": {
      "text/plain": [
       "['Population',\n",
       " 'Under15',\n",
       " 'Over60',\n",
       " 'FertilityRate',\n",
       " 'ChildMortality',\n",
       " 'CellularSubscribers',\n",
       " 'LiteracyRate',\n",
       " 'GNI']"
      ]
     },
     "execution_count": 56,
     "metadata": {},
     "output_type": "execute_result"
    }
   ],
   "source": [
    "colm"
   ]
  },
  {
   "cell_type": "code",
   "execution_count": 57,
   "metadata": {},
   "outputs": [
    {
     "data": {
      "text/plain": [
       "Population             0.025215\n",
       "Under15                0.836467\n",
       "Over60                 0.688129\n",
       "FertilityRate          0.831073\n",
       "ChildMortality         0.820906\n",
       "CellularSubscribers    0.610808\n",
       "LiteracyRate           0.319418\n",
       "GNI                    0.623156\n",
       "dtype: float64"
      ]
     },
     "execution_count": 57,
     "metadata": {},
     "output_type": "execute_result"
    }
   ],
   "source": [
    "corelation = pd.Series([np.abs(np.corrcoef(x[i],y))[0,1] for i in colm], index = colm)\n",
    "corelation"
   ]
  },
  {
   "cell_type": "code",
   "execution_count": 58,
   "metadata": {},
   "outputs": [],
   "source": [
    "# droping population because of very low correlation coefficient\n",
    "x.drop('Population', axis=1, inplace=True)"
   ]
  },
  {
   "cell_type": "markdown",
   "metadata": {},
   "source": [
    "# checking accuracy"
   ]
  },
  {
   "cell_type": "markdown",
   "metadata": {},
   "source": [
    "###### Linear regression"
   ]
  },
  {
   "cell_type": "code",
   "execution_count": 59,
   "metadata": {},
   "outputs": [],
   "source": [
    "train_x,test_x,train_y,test_y = train_test_split(x,y, test_size = .5, random_state = 1)"
   ]
  },
  {
   "cell_type": "code",
   "execution_count": 60,
   "metadata": {},
   "outputs": [
    {
     "data": {
      "text/plain": [
       "LinearRegression(copy_X=True, fit_intercept=True, n_jobs=None, normalize=False)"
      ]
     },
     "execution_count": 60,
     "metadata": {},
     "output_type": "execute_result"
    }
   ],
   "source": [
    "lm.fit(train_x,train_y)"
   ]
  },
  {
   "cell_type": "code",
   "execution_count": 61,
   "metadata": {},
   "outputs": [
    {
     "data": {
      "text/plain": [
       "79.81045939326705"
      ]
     },
     "execution_count": 61,
     "metadata": {},
     "output_type": "execute_result"
    }
   ],
   "source": [
    "lm.score(test_x,test_y)*100"
   ]
  },
  {
   "cell_type": "markdown",
   "metadata": {},
   "source": [
    "###### polynomial regression"
   ]
  },
  {
   "cell_type": "code",
   "execution_count": 62,
   "metadata": {},
   "outputs": [
    {
     "data": {
      "image/png": "[encoded data removed]",
      "text/plain": [
       "<Figure size 288x1152 with 1 Axes>"
      ]
     },
     "metadata": {
      "needs_background": "light"
     },
     "output_type": "display_data"
    },
    {
     "data": {
      "image/png": "[encoded data removed]",
      "text/plain": [
       "<Figure size 288x1152 with 1 Axes>"
      ]
     },
     "metadata": {
      "needs_background": "light"
     },
     "output_type": "display_data"
    },
    {
     "data": {
      "image/png": "[encoded data removed]",
      "text/plain": [
       "<Figure size 288x1152 with 1 Axes>"
      ]
     },
     "metadata": {
      "needs_background": "light"
     },
     "output_type": "display_data"
    },
    {
     "data": {
      "image/png": "[encoded data removed]",
      "text/plain": [
       "<Figure size 288x1152 with 1 Axes>"
      ]
     },
     "metadata": {
      "needs_background": "light"
     },
     "output_type": "display_data"
    },
    {
     "data": {
      "image/png": "[encoded data removed]",
      "text/plain": [
       "<Figure size 288x1152 with 1 Axes>"
      ]
     },
     "metadata": {
      "needs_background": "light"
     },
     "output_type": "display_data"
    },
    {
     "data": {
      "image/png": "[encoded data removed]",
      "text/plain": [
       "<Figure size 288x1152 with 1 Axes>"
      ]
     },
     "metadata": {
      "needs_background": "light"
     },
     "output_type": "display_data"
    },
    {
     "data": {
      "image/png": "[encoded data removed]",
      "text/plain": [
       "<Figure size 288x1152 with 1 Axes>"
      ]
     },
     "metadata": {
      "needs_background": "light"
     },
     "output_type": "display_data"
    },
    {
     "data": {
      "image/png": "[encoded data removed]",
      "text/plain": [
       "<Figure size 288x1152 with 1 Axes>"
      ]
     },
     "metadata": {
      "needs_background": "light"
     },
     "output_type": "display_data"
    }
   ],
   "source": [
    "from sklearn.preprocessing import PolynomialFeatures \n",
    "from sklearn.linear_model import LinearRegression \n",
    "def check_exp(inp,degree,out):\n",
    "    poly = PolynomialFeatures(degree=degree)\n",
    "    x_poly = poly.fit_transform(inp)\n",
    "    \n",
    "    lin2 = LinearRegression()\n",
    "    lin2.fit(x_poly, out)\n",
    "    \n",
    "    return lin2.score(x_poly, out)\n",
    "\n",
    "for i in range(x.shape[1]):\n",
    "    acc = []\n",
    "    for j in range(10):\n",
    "        acc.append(check_exp(x.iloc[:,i].values.reshape(-1,1),j,y))\n",
    "        \n",
    "    import matplotlib.pyplot as plt\n",
    "    plt.figure(figsize=(4,x.shape[1]*2))\n",
    "    plt.subplot(x.shape[1],1,i+1)\n",
    "    \n",
    "    plt.title('column :'+str(i))\n",
    "    plt.xlabel('degree')\n",
    "    plt.ylabel('accuracy')\n",
    "    plt.plot(acc)"
   ]
  },
  {
   "cell_type": "code",
   "execution_count": 63,
   "metadata": {
    "scrolled": true
   },
   "outputs": [
    {
     "data": {
      "text/plain": [
       "8"
      ]
     },
     "execution_count": 63,
     "metadata": {},
     "output_type": "execute_result"
    }
   ],
   "source": [
    "l = [2,1,1,1,1,1,2,2]\n",
    "len(l)"
   ]
  },
  {
   "cell_type": "code",
   "execution_count": 64,
   "metadata": {},
   "outputs": [],
   "source": [
    "from sklearn.preprocessing import PolynomialFeatures\n",
    "for i,j in zip(range(1,x.shape[1]+1),l):\n",
    "    exec(f'poly{i} = PolynomialFeatures(degree = {j})')\n",
    "    exec(f'X_{i} = poly{i}.fit_transform(x.iloc[:,{i}-1].values.reshape(-1,1))')"
   ]
  },
  {
   "cell_type": "code",
   "execution_count": 65,
   "metadata": {},
   "outputs": [],
   "source": [
    "data2 = np.concatenate((X_1,X_2,X_3,X_4,X_5,X_6,X_7,X_8),axis=1)"
   ]
  },
  {
   "cell_type": "code",
   "execution_count": 66,
   "metadata": {},
   "outputs": [],
   "source": [
    "train_X,test_X,train_y,test_y = train_test_split(data2,y, test_size=.3, random_state =1)"
   ]
  },
  {
   "cell_type": "code",
   "execution_count": 67,
   "metadata": {},
   "outputs": [
    {
     "data": {
      "text/plain": [
       "81.64859089968306"
      ]
     },
     "execution_count": 67,
     "metadata": {},
     "output_type": "execute_result"
    }
   ],
   "source": [
    "lm.fit(train_X,train_y)\n",
    "lm.score(train_X,train_y)*100"
   ]
  },
  {
   "cell_type": "code",
   "execution_count": 68,
   "metadata": {},
   "outputs": [
    {
     "data": {
      "text/plain": [
       "84.09972974827559"
      ]
     },
     "execution_count": 68,
     "metadata": {},
     "output_type": "execute_result"
    }
   ],
   "source": [
    "lm.score(test_X,test_y)*100"
   ]
  },
  {
   "cell_type": "markdown",
   "metadata": {},
   "source": [
    "###### xgbooster"
   ]
  },
  {
   "cell_type": "code",
   "execution_count": 69,
   "metadata": {},
   "outputs": [],
   "source": [
    "from xgboost import XGBRegressor\n",
    "xgb = XGBRegressor(n_estimators=200,max_depth=4)"
   ]
  },
  {
   "cell_type": "code",
   "execution_count": 70,
   "metadata": {},
   "outputs": [
    {
     "name": "stdout",
     "output_type": "stream",
     "text": [
      "[17:11:41] WARNING: C:/Jenkins/workspace/xgboost-win64_release_0.90/src/objective/regression_obj.cu:152: reg:linear is now deprecated in favor of reg:squarederror.\n"
     ]
    },
    {
     "name": "stderr",
     "output_type": "stream",
     "text": [
      "C:\\ProgramData\\Anaconda3\\lib\\site-packages\\xgboost\\core.py:587: FutureWarning: Series.base is deprecated and will be removed in a future version\n",
      "  if getattr(data, 'base', None) is not None and \\\n"
     ]
    },
    {
     "data": {
      "text/plain": [
       "XGBRegressor(base_score=0.5, booster='gbtree', colsample_bylevel=1,\n",
       "             colsample_bynode=1, colsample_bytree=1, gamma=0,\n",
       "             importance_type='gain', learning_rate=0.1, max_delta_step=0,\n",
       "             max_depth=4, min_child_weight=1, missing=None, n_estimators=200,\n",
       "             n_jobs=1, nthread=None, objective='reg:linear', random_state=0,\n",
       "             reg_alpha=0, reg_lambda=1, scale_pos_weight=1, seed=None,\n",
       "             silent=None, subsample=1, verbosity=1)"
      ]
     },
     "execution_count": 70,
     "metadata": {},
     "output_type": "execute_result"
    }
   ],
   "source": [
    "xgb.fit(train_X,train_y)"
   ]
  },
  {
   "cell_type": "code",
   "execution_count": 71,
   "metadata": {},
   "outputs": [
    {
     "data": {
      "text/plain": [
       "99.95411658938505"
      ]
     },
     "execution_count": 71,
     "metadata": {},
     "output_type": "execute_result"
    }
   ],
   "source": [
    "xgb.score(train_X,train_y)*100"
   ]
  },
  {
   "cell_type": "code",
   "execution_count": 72,
   "metadata": {},
   "outputs": [
    {
     "data": {
      "text/plain": [
       "87.50607999920781"
      ]
     },
     "execution_count": 72,
     "metadata": {},
     "output_type": "execute_result"
    }
   ],
   "source": [
    "xgb.score(test_X,test_y)*100"
   ]
  },
  {
   "cell_type": "markdown",
   "metadata": {},
   "source": [
    "###### random forest"
   ]
  },
  {
   "cell_type": "code",
   "execution_count": 73,
   "metadata": {},
   "outputs": [],
   "source": [
    "from sklearn.ensemble import RandomForestRegressor\n",
    "rfr = RandomForestRegressor(n_estimators=300,max_depth=3)"
   ]
  },
  {
   "cell_type": "code",
   "execution_count": 74,
   "metadata": {
    "scrolled": true
   },
   "outputs": [
    {
     "data": {
      "text/plain": [
       "RandomForestRegressor(bootstrap=True, criterion='mse', max_depth=3,\n",
       "                      max_features='auto', max_leaf_nodes=None,\n",
       "                      min_impurity_decrease=0.0, min_impurity_split=None,\n",
       "                      min_samples_leaf=1, min_samples_split=2,\n",
       "                      min_weight_fraction_leaf=0.0, n_estimators=300,\n",
       "                      n_jobs=None, oob_score=False, random_state=None,\n",
       "                      verbose=0, warm_start=False)"
      ]
     },
     "execution_count": 74,
     "metadata": {},
     "output_type": "execute_result"
    }
   ],
   "source": [
    "rfr.fit(train_X,train_y)"
   ]
  },
  {
   "cell_type": "code",
   "execution_count": 75,
   "metadata": {},
   "outputs": [
    {
     "data": {
      "text/plain": [
       "92.32961745673063"
      ]
     },
     "execution_count": 75,
     "metadata": {},
     "output_type": "execute_result"
    }
   ],
   "source": [
    "rfr.score(train_X,train_y)*100"
   ]
  },
  {
   "cell_type": "code",
   "execution_count": 76,
   "metadata": {},
   "outputs": [
    {
     "data": {
      "text/plain": [
       "90.34563461158007"
      ]
     },
     "execution_count": 76,
     "metadata": {},
     "output_type": "execute_result"
    }
   ],
   "source": [
    "rfr.score(test_X,test_y)*100"
   ]
  },
  {
   "cell_type": "markdown",
   "metadata": {},
   "source": [
    "###### factors which are affecting life expectancy most"
   ]
  },
  {
   "cell_type": "code",
   "execution_count": 77,
   "metadata": {},
   "outputs": [
    {
     "data": {
      "text/plain": [
       "Population             0.025215\n",
       "Under15                0.836467\n",
       "Over60                 0.688129\n",
       "FertilityRate          0.831073\n",
       "ChildMortality         0.820906\n",
       "CellularSubscribers    0.610808\n",
       "LiteracyRate           0.319418\n",
       "GNI                    0.623156\n",
       "dtype: float64"
      ]
     },
     "execution_count": 77,
     "metadata": {},
     "output_type": "execute_result"
    }
   ],
   "source": [
    "corelation"
   ]
  },
  {
   "cell_type": "code",
   "execution_count": null,
   "metadata": {},
   "outputs": [],
   "source": [
    "# Under15, FertilityRate and ChildMortality are affecting the most."
   ]
  }
 ],
 "metadata": {
  "kernelspec": {
   "display_name": "Python 3",
   "language": "python",
   "name": "python3"
  },
  "language_info": {
   "codemirror_mode": {
    "name": "ipython",
    "version": 3
   },
   "file_extension": ".py",
   "mimetype": "text/x-python",
   "name": "python",
   "nbconvert_exporter": "python",
   "pygments_lexer": "ipython3",
   "version": "3.7.3"
  }
 },
 "nbformat": 4,
 "nbformat_minor": 2
}
